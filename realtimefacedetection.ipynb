{
  "nbformat": 4,
  "nbformat_minor": 0,
  "metadata": {
    "colab": {
      "name": "realtimefacedetection.ipynb",
      "provenance": [],
      "authorship_tag": "ABX9TyOdHShRmQ27Cohf9XC3uxQ9",
      "include_colab_link": true
    },
    "kernelspec": {
      "name": "python3",
      "display_name": "Python 3"
    },
    "language_info": {
      "name": "python"
    }
  },
  "cells": [
    {
      "cell_type": "markdown",
      "metadata": {
        "id": "view-in-github",
        "colab_type": "text"
      },
      "source": [
        "<a href=\"https://colab.research.google.com/github/aaratighimire06/AI_basics/blob/main/realtimefacedetection.ipynb\" target=\"_parent\"><img src=\"https://colab.research.google.com/assets/colab-badge.svg\" alt=\"Open In Colab\"/></a>"
      ]
    },
    {
      "cell_type": "code",
      "execution_count": 1,
      "metadata": {
        "id": "tvy459TG6qED"
      },
      "outputs": [],
      "source": [
        "# importing harrcascade file \n",
        "import cv2 \n",
        "face_cascade = cv2.CascadeClassifier(\"haarcascade_frontalface_alt.xml\")\n"
      ]
    },
    {
      "cell_type": "code",
      "source": [
        "# function to detect and localise faces\n",
        "def detect(gray,frame):\n",
        "  faces = face_cascade.detectMultipleScale(gray,1.3,5)\n",
        "  print(faces)\n",
        "  for(x,y,w,h) in faces:\n",
        "    cv2.rectangle(frame,(x,y),(x+w,y+h),(255,0,0),3)\n",
        "    return frame "
      ],
      "metadata": {
        "id": "q6GOjlW38Eyt"
      },
      "execution_count": 2,
      "outputs": []
    },
    {
      "cell_type": "code",
      "source": [
        "video_capture = cv2.VideoCapture(0) # o for internal webcam\n",
        "\n"
      ],
      "metadata": {
        "id": "JZlUrZHV8l7C"
      },
      "execution_count": 4,
      "outputs": []
    },
    {
      "cell_type": "code",
      "source": [
        "# 1 sec video -> +-30 frame or images\n",
        "while True:\n",
        "    ret,frame = video_capture.read() #we get the latest frame\n",
        "    gray = cv2.cvtColor(frame,cv2.COLOR_BGR2GRAY)\n",
        "    output = detect(gray,frame)\n",
        "    cv2.imshow('Face detection',output)\n",
        "    \n",
        "    if cv2.waitKey(1) & 0xFF == ord('e'):\n",
        "        break\n"
      ],
      "metadata": {
        "id": "Jtc7uXKF9zmC"
      },
      "execution_count": null,
      "outputs": []
    },
    {
      "cell_type": "code",
      "source": [
        ""
      ],
      "metadata": {
        "id": "Qaf8UPjG94B1"
      },
      "execution_count": null,
      "outputs": []
    }
  ]
}